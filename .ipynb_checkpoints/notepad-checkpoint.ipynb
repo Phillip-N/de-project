{
 "cells": [
  {
   "cell_type": "code",
   "execution_count": 1,
   "id": "bf5283b7",
   "metadata": {},
   "outputs": [],
   "source": [
    "import pandas as pd"
   ]
  },
  {
   "cell_type": "code",
   "execution_count": null,
   "id": "e11623e8",
   "metadata": {},
   "outputs": [
    {
     "name": "stderr",
     "output_type": "stream",
     "text": [
      "C:\\Users\\Phillip\\AppData\\Local\\Temp\\ipykernel_22536\\2053073117.py:1: DtypeWarning: Columns (13,15) have mixed types. Specify dtype option on import or set low_memory=False.\n",
      "  can_df = pd.read_csv('marketcheck-automotive-data-us-canada/ca-dealers-used.csv')\n"
     ]
    }
   ],
   "source": [
    "can_df = pd.read_csv('marketcheck-automotive-data-us-canada/ca-dealers-used.csv', low_memory=False)\n",
    "us_df = pd.read_csv('marketcheck-automotive-data-us-canada/us-dealers-used.csv', low_memory=False)"
   ]
  },
  {
   "cell_type": "code",
   "execution_count": null,
   "id": "489ea9bf",
   "metadata": {},
   "outputs": [],
   "source": []
  }
 ],
 "metadata": {
  "kernelspec": {
   "display_name": "Python 3 (ipykernel)",
   "language": "python",
   "name": "python3"
  },
  "language_info": {
   "codemirror_mode": {
    "name": "ipython",
    "version": 3
   },
   "file_extension": ".py",
   "mimetype": "text/x-python",
   "name": "python",
   "nbconvert_exporter": "python",
   "pygments_lexer": "ipython3",
   "version": "3.10.1"
  }
 },
 "nbformat": 4,
 "nbformat_minor": 5
}
